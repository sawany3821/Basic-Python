{
  "nbformat": 4,
  "nbformat_minor": 0,
  "metadata": {
    "colab": {
      "name": "可視化問題のコピー.ipynb ",
      "provenance": [],
      "collapsed_sections": [],
      "include_colab_link": true
    },
    "kernelspec": {
      "name": "python3",
      "display_name": "Python 3"
    },
    "language_info": {
      "name": "python"
    }
  },
  "cells": [
    {
      "cell_type": "markdown",
      "metadata": {
        "id": "view-in-github",
        "colab_type": "text"
      },
      "source": [
        "<a href=\"https://colab.research.google.com/github/sawany3821/Basic-Python/blob/master/%E5%8F%AF%E8%A6%96%E5%8C%96%E5%95%8F%E9%A1%8C%E3%81%AE%E3%82%B3%E3%83%94%E3%83%BC.ipynb\" target=\"_parent\"><img src=\"https://colab.research.google.com/assets/colab-badge.svg\" alt=\"Open In Colab\"/></a>"
      ]
    },
    {
      "cell_type": "markdown",
      "source": [
        "#可視化課題\n",
        "#必ずコピーしてMydriveに保存してから解いてください。\n",
        "#(ファイル→ドライブにコピーを保存）\n"
      ],
      "metadata": {
        "id": "9TPtytKzppX2"
      }
    },
    {
      "cell_type": "code",
      "source": [
        "from google.colab import drive\n",
        "drive.mount('/content/drive')"
      ],
      "metadata": {
        "id": "fg9hWS7n61l_",
        "colab": {
          "base_uri": "https://localhost:8080/"
        },
        "outputId": "6fd17948-7b5f-4e47-f5a9-a84733567167"
      },
      "execution_count": 15,
      "outputs": [
        {
          "output_type": "stream",
          "name": "stdout",
          "text": [
            "Drive already mounted at /content/drive; to attempt to forcibly remount, call drive.mount(\"/content/drive\", force_remount=True).\n"
          ]
        }
      ]
    },
    {
      "cell_type": "code",
      "execution_count": 16,
      "metadata": {
        "id": "oA__biOqYxYz"
      },
      "outputs": [],
      "source": [
        "#使うライブラリ\n",
        "!pip install -qqq japanize-matplotlib\n",
        "import matplotlib.pyplot as plt\n",
        "import pandas as pd\n",
        "import numpy as np\n",
        "import japanize_matplotlib\n",
        "japanize_matplotlib.japanize()"
      ]
    },
    {
      "cell_type": "markdown",
      "source": [
        "## 1問目\n",
        "使うcsvはhist_data.csvです。下にコードを書いてください。"
      ],
      "metadata": {
        "id": "HRKA_3p08Dmc"
      }
    },
    {
      "cell_type": "markdown",
      "source": [
        "![問1.png](data:image/png;base64,iVBORw0KGgoAAAANSUhEUgAAAX0AAAEVCAYAAAAM3jVmAAAABHNCSVQICAgIfAhkiAAAAAlwSFlzAAALEgAACxIB0t1+/AAAADh0RVh0U29mdHdhcmUAbWF0cGxvdGxpYiB2ZXJzaW9uMy4yLjIsIGh0dHA6Ly9tYXRwbG90bGliLm9yZy+WH4yJAAAgAElEQVR4nO3de/xVVZ3/8ddbBb4CNgp8BRW5WCqV4Y0x9WcOmjWm5ljjqJUGWpGlY403tBmNIcK0MfM6KmORijmaiffLZHLJJMVEvFEi3nCEFIVJ5VZ8fn+s/cXD8Xs5wLl8Yb2fj8d5fM/ee+211t7ffT5n7bXX3kcRgZmZ5WGTRlfAzMzqx0HfzCwjDvpmZhlx0Dczy4iDvplZRhz0NzCSDpO0Z6PrUQuSukgaLcnHpVmN+MO1AZF0EtATuETSgCrk11fSvhWmPVDS9utbZjv59wSuBFYA51cpzwMl/U018iry67qe64+U9IMO0mh9yqglSZtL+qCk3SpM3+72Sjpa0kBJMyRtKWl0Mf9nkgZ2kHe34q8kNVdQl2ZJV1dS743dZo2ugL2fpN8A/VtZdCAwCTgReLUKRZ0MdAF+W0Haw4CXgIvbSiBpJHBkRBzWTpojgf9oZdEk4GFgIHBZBfVpl6QPAP8N7FRB2r8FzgA+AvQAXgEeBH4UEUtKko6SdBDwNeC7wP7A/5Us/0hE9CrJ9zjgpJLlzUCTpOEl8/4YEV8umb5c0t0RcWcF9V4MzCome5P2YX9gb+DtYv6AiNihnTxmAMdGxNw2lm9HOj7eBd4CtgB2lrRdRLxelnZtt3dT4OvF+6OBRcX7PYC/SOpXTL8VEctLyhkI3CXpY8CHgZ9L2jMi/tLWdgKfB5a2szwbDvqdUETs19YySZ+OiD+vbxmSegNfBZZIOqKYvTVwdET8Tyur3E/6smkz6FciIn4B/KKdem1Rje0DTgVWAg8XjecuwKsRsX9ZeV8FjicFq32BbYAxxbxpkoZHxFtF3S8rAm2HXySF7YArI2KipOOBuyNioaSPA90iYlor6+wFXFjU7STgyKJO3UhBcoeS4PYOcGPx/mMledwLzC/en1ayrRcWeXUt8utKCpo3SVpVzHsmIo5uWSciXpU0OCJWSRoEzAD+pTzgr+32StqdtM+D9GV7XDH/j6Qvi2uADxbb+A1Sg6DFvwGXR7qz9BlJDwBjge+UVkbSrJLJocDssnktvhoRM1uZv3GKCL8yfJFahaNLpjcB5gLbt5G+C6kF3BPYBbgEuLQszUjgzk6wbR8Dngd6lcw7AZhQlu5vgZlA92L6MuCYkuXfBS4s3ncFbgC2KUm7X1l+s8qmzyrqMQN4g9Qqn1HMe6F4f3PZPv7fkumPAruRguAWLfUsWf4W8Kvi9VtScPx3YFrJ/OfL9svHSMF0W6AX8Agp8G/awT7dCngG+HE7adZqe4t1fkRq4Z8NbA4cQzrDArgI2L8s/SeBJ4CuJfO6AY8CI9uo15HALcX7f2308dnol1v6DVK0hL5NOg1/DTgW+BLp4O/IlyLid+tR9rnAoaRW/maRWo6fA56KiFdaWyciVkqaCvweWAJMBG5uJWmTpJ+QWm9dgdMi4sGi3CdI3Sft+V1EfGkdNouijP7AL0ktyB2AN4t+8m8BI8qSnwp8NyLeLab3BC4vWT4Z+BlARKyQ9CvgV5L2LpZfIam0e6e16yxjI+Jnkm4ExgN/JLVqu0VEeTfWNsDLLRMR8XQHm7swIg4qtvsi0v+kC6lL5/hi/pyS/J4s5m1GCra7AtsDKyPir20VUlxvuZ3UKDi1gzpVtL2Stibt6/uB54A5pO64TXivB2JIsX7LOkNJ/49PRcSKku1aLulwYKqkbYDzI2JVsU4v4AfAwUXy44Hvd7ANG7dGf+vk+AJE6hfuVUx/H/hKG2lfJp3St7ZsJLCsgtfIknX+A5gCfAD4IfA/pG6dOcBebZTzAeDnwN1tpSmpz7vA3sX0x4HXKWlxl6U/Abi2nfzmVrBtc0vS7wzMA44gtZCfBo4iBfu7Wsn/WaC5eD+Q1LVRunyvVubtuxb/538j9ZcDfIV0obrlNbyV9HsAt69F/nOKv+eTWtW/BG4DHgPOK01Ttt4I4KekM4h5wMfbKWML4DekL9Ffk7pZZpGueey1rttLOtP4DOmL8oFiXvei/g+SzkKeKkm/I+mzcHFR/nNAyzWNWaQzi68D04Fdi3W6AQ+QBge0pFte8n4BJWd2ubzc0m+AiAhJy0h9qd1IH76fl6crlvWhpPVXls9EUutubfyCdIq7HDhD0smk1tTkiHiklTqI9EH874i4soL8p0fEjKJ+v5P0POnC4t2tpB1MCuytiogPVVBeqZdJH+JHirp/ktS/vS3pomu5N4C/IX0xjSB135T6FCmAlloqaSvgRVK3xfbAQmBL4M+k/TSmSNsD2LS4MF9unKTvRcR9JfO6A4slHR0R/93x5q52FTCB9KX7Fun/1WbLnRTIX46I1yX9idS9874zx+Ji+L2kbpfPk/rolxfLPg7cIWn7eK/VvTbbuz3wr0DfsnXOAwaR/hcPtqwcEc9J2iciXi3K/zKwZ0R8q5i+HnguIj5RTPckHeu/AwZGxG7F/Lkl78e0s482Wh6y2QDFMMkLgBOLg/QiUuu/3JHAPdH+qIS1EhEzomQkBClQzSV1f7TmI8DmFQZ8gFXlRbaWSNKmpO27tcJ8OxQRS8u+uJaRWnlnRMScVla5DfiGpB15r2XaUr9DgNNJZ0OlJpD6xB8FDgfuI10Qnwj8S1nagcC8SBfm/whcUbwfTerCmF6Wfhmp5dsylPFBOlBcEL22KH8k6expInBdsaw11wP7S3qMdJb3WhvpVgHXAX9PGr11i6S/L5Y9WvzdYl22N1L35FHAS5FGFz0BnBkRdwH/RbreUvqFSEvALxxAuh7RYivWHEnVG5gSEWtc3DXcvdOIF6l/8XFSoO8OTAW+X5bm46QRGLvXqA6bkk7HHwd6t5NuIKlFfBAlF/tIDYbtgaaSeSNJp9wfKab3JLWCe5Xl2ZX0wb6phvt4CPAU8LV20nQF7iAFvYOL6TNIXQIvAAeUpT+U1PLtSbpI2p8UQPcGxhV5jClJv/piMqmv/XLgFtIFzT6t1GdH0pfkoaSuifnFfu9eTG9Tuh4lXTdF/jNI3XXHAipP00p5O5O6uHp0sC+/RRods3Wx/UcX/79JZenWdnv3J7XmLwMeKqnzycX/4Elg2zbqvYCSC9ukC/JtdYOWdgHOLY79HqSuzqNrdQx21pdb+o1xP6nb4HHgLtLwtNXDACVdTjo1HRERj1e78GKs+aOkgH5gRCxqK21EvES6wHwq8LyklyS9RvrQ3UcaYVLqFuDMopV6FXBURLxZUvZepL72LsCXqTJJPYuLmpOBsyJiQltpI2JFRHw2IraJiHsjdVMsJgWDHaO4AF3kuzmpP3lchfU4jNTafbvY5tNI1xmeJN1j8UtJ35d0VMlq80lB/4FIZ2NHk84eniGNnJpGOiMpL+vvSN1nPwP+Cfh/wKVF19z7PuOSmiR9nfT/+2ZEvNPB5txS5NnSVfbPpL7949Zze2eRujX3IQ2vHStpHOkM4FBSo+RhSfuUlPPRYlu/AvylmNcd+BBtn7GU61LU/wDSGUZWWr5ZrRMpRik8X8GHcX3y3zzWYwTQepTdjXQmUPUvs5IyjiUN0avazThFsDk9Io4vbmhq73rYGFKg/hvSxdndSS3we+O9PvG+pOGHPUq/mCQdHBH3VlinORExRNI3gBml+1TSp0nDan8TEV8tW68XcCZprHuro7XWlqQdWIvtVbq7eRLpIvHVEbFU0gdJAxzGRMSyYr1PkLqMXpV0Fuls8tSIuLu4HnU6qYtpSkT8YwX1nBtrf61oo+Kgb1YhSQp/YBqm+LL6c0SsbHRdNmQO+mZmGXGfvplZRhz0zcwy4qBvZpaRTn9Hbp8+fWLQoEGNroaZ2QblscceeyMi3vdbA50+6A8aNIiZM/N56qmZWTVIeqm1+e7eMTPLiIO+mVlGHPTNzDLS6fv0zcxWrlzJ/PnzWbZsWaOr0uk0NTXRv39/unTpUlF6B30z6/Tmz5/PFltswaBBg0jPkTNIT0letGgR8+fPZ/DgwRWt4+4dM+v0li1bRu/evR3wy0iid+/ea3UG5KBvZhuEDSngv/XWWzz00EN1KWtt94u7d8xswzN7THXzG1q9/JYuXcr48eN58803aW5uZqeddup4pTIzZ87k5ptv5vzzz69avVo46FvnVXywJ3Yb0n66vsMBGLllv9rWx6zMtGnTOPPMM9eYd+CBBzJ48GA+9alPseOOO65TvhdeeCGPPvro6rOFQw45hO98pzq//Oigb2a2jvbff39mzJhR1Tzvu+8+/vrXvzJ37lwA7rzzTp555pmq5e+gb2bWgVWrVnHyySczc+ZMNt10UyZMmMCtt97KXXfdtTrN0qVLaWpqWt3HftJJJ3Hccce1lWWrnnjiCc4++2y23HJLXnvtNbbZZhsuvfRSrrvuuqpti4O+mVkH3nnnHYYPH84VV1zBtGnTuOqqq7j00ks555xzVqcZOnQo06dPp2vXrmuse+6553L77be3mfcJJ5zAKaecwrvvvssZZ5zBHXfcweLFiznqqKP4zGc+w6677srWW29dtW1x0Dcz68DKlSu5//77ueyyy1ixYgVDhqx5nentt99ms802e1/ABxg7dixjx47tsIzu3btz//33A7Dddtsxfvx4RowYwezZs6uzEQUP2TQz68C1115Ljx49mDZtGuPGjaP8Z2bPO+88RowYUbXyZs+ezdlnn80DDzxAz549q5YvuKVvZhuiKg6xrMShhx7KMcccw8EHH8ynP/1pFi9eDMBLL73EaaedRr9+/Rg3btx6l7Ns2TLOPfdcnn32WSZNmsTAgQPXO89yDvpmZh3Ycccdeeyxx1ZPn3rqqQD06dOHs846i2HDhlWlnKamJg4//HAuuOCCquTXGgd9q461uVmmaKVNXLyg/XQdjc83a7AePXpULeC32G+//aqaXzn36ZuZZcRB38wsIw76ZmYZqVnQl3SUpIclTZd0k6TukkZKmiNpSvE6t1blm5k10vTp01myZEmjq/E+NbmQK6kXcCbwiYhYKumHwFeB3sApEXF/Lco1szx0OAhgLVX7YX133XUXr7zyCldeeSWTJk1apzxOP/10vvjFL7LHHntUtW41CfoR8aak/SKi5cn+mwFLgUHA9pK+A7wFnBoRL9SiDmZm1fLiiy9yzDHHtPpwtdGjRzN16tQ15p133nnMmDGDq666ap3Ke/3115kwYQIPP/wwkpDEJZdcwu67775O+ZWq2ZDNiFgmqQk4H+gG/AToBfwuIqZIGg5MAvYtX1fSKGAUwIABA2pVRauRDh+FXOVWmlkjtfXM+wMOOGCd8/z2t7/NDTfcwKGHHgrAF77wBfr27bvO+ZWqWdCX1B+YAFwSEfcUs1fvnSLwD5KkKLunOSKuBq4GGDZs2Jr3O5uZNcDy5cs58cQTefrpp+nbty/XX389w4cPX708Ili+fDlNTU2r591999306tVrrcoZO3Yss2fPZocdduCQQw5h3rx5rFy5km233bYq21GrPv0mYCJwfES8UjJ/NHBDRLwiaRjwSnnANzPrjF588UVuu+02BgwYwGmnncYVV1yxRnfPzJkz+fGPf8z111//vnV32223dvOePHkygwYNYvLkySxevJjZs2dz6aWXcswxx7By5UrGjBlTte2oVUv/IODDwHUlv9/4a+A3wC2SlgMrgLV72LSZWYPsvPPOq7ubP/nJT3LLLbessXz27Nnssssura47a9asiso44ogjOOKIIwA45ZRTeOKJJ+jduzdDhw5dj5qvqVYXcu8Etmtj8V61KNPMrJbmzZvHokWL6N27N1OnTuWjH/3o6mVLlizhyiuvZPLkyVUr76KLLmLVqlX84Ac/qFqe4GfvmNkGqBG/h7znnnty+umnM2/ePPr167f6Gfm33XYb48aNY/z48VXpd3/yyScZPXo0e++9N9dccw2bbFLd26kc9M3MOjBo0CDuueeeVpcNHjyY++67b60v2LalubmZSy65hA996ENVya+cg76Z2XqoZn87QL9+tT2LcdC3+ls4pSbZVnqXZiO6Bsw6Cz9wzcw2CB7d3bq13S8O+mbW6TU1NbFo0SIH/jIRwaJFi9a4Iawj7t4xs06vf//+zJ8/n9dff73RVel0mpqa6N+/f8XpHfTNrNPr0qULgwcPbnQ1Ngru3jEzy4iDvplZRhz0zcwy4qBvZpYRB30zs4w46JuZZcRB38wsIw76ZmYZcdA3M8uIg76ZWUYc9M3MMuKgb2aWEQd9M7OMOOibmWXEQd/MLCMO+mZmGXHQNzPLiIO+mVlGHPTNzDLioG9mlhEHfTOzjDjom5llxEHfzCwjNQv6ko6S9LCk6ZJuktRd0q6SpkqaIekOSVvVqnwzM3u/mgR9Sb2AM4EDI+ITwEvA14AbgW9FxN7APcDYWpRvZmatq0nQj4g3gf0iYmkxazNgGfBWRMwq5v0XcGgtyjczs9ZtVquMI2KZpCbgfKAb8BSwoGT5Ckmtli9pFDAKYMCAAbWqom0sFk6pLF3f4bWshdkGoZZ9+v2BW4F7I+JEUsDfumR5N2BFa+tGxNURMSwihjU3N9eqimZm2alVn34TMBEYFRH3AETE80BPSbsUyY4j9eubmVmd1Kp75yDgw8B1klrm/RoYCUyQtApYBIyoUflmZtaKmgT9iLgT2K6NxfvUokwzM+uYb84yM8uIg76ZWUYc9M3MMuKgb2aWEQd9M7OMOOibmWXEQd/MLCMO+mZmGXHQNzPLiIO+mVlGHPTNzDLioG9mlhEHfTOzjDjom5llxEHfzCwjDvpmZhlx0Dczy4iDvplZRmr1G7lWQxMXL6go3cgt+1U1v3Z1G7L+eZhZzbmlb2aWEQd9M7OMOOibmWXEQd/MLCMO+mZmGXHQNzPLiIdsbmwWTnnv/ctz2k43dEyta2JmnZBb+mZmGXHQNzPLiIO+mVlGHPTNzDJSk6Av6UhJN0l6uWTecEkvSppSvK6oRdlmZta2Wo3eeR34JvBUybzBwPiIuLpGZZqZWQc6bOlL2kbSh1uZ3yzp71pbJyKmRsQbZbMHAcMlPSjpXkm7rVONzcxsnVXS0t8DOE3SjcATEfE7SV2BnwEXr0VZLwJPR8RNxZfIZEkfiYi/lieUNAoYBTBgwIC1KMKqrnTcv5lt8Crt038ceAHYR9J1wFTgyoi4r9KCIuKnEXFT8f5ZYAmwbRtpr46IYRExrLm5udIizMysA+0GfUk/Bb4B9AKWF39XABOBL0pqqrQgSV+TNLR4PxDYEnht3aptZmbroqPuna8AOwJHAmcB/wtcHBGzJc0FfgycWGFZjwCXS9oEWAV8OSL+sm7VNjOzddFR0P9n4Dngk8AvgTuBuyUdCQRwe3srR0S/kvdPAJ9Yr9qamdl66ahPfx6wK9AHOADYHFgJfAH4KTCtprUzM7Oq6ijob03qwx9ACvbHA03AY6TROJ+rZeXMzKy6Ogr6PYEepNE7s4CbgKXAZ4HPA4fVtHZmZlZV7fbpR8TFxYXXF4AbgX2B8yPi5wCSzqh9FQ2A2WPee99tSMOqYWYbto6GbPYmXcw9PiJWFnfatgT8vsDYOtTRzMyqpJKbszYFNpW0uaTNJE2TtBPpTt1Hals9MzOrpkoew7ArsBNwLfAg0B34d9IF3UrH6JuZWSfQUUv/TOD3wLPAaEDA/wHjgZ0iYmFtq2dmZtXUUdB/COgL9CaN04c0mucs4EZJ+9SwbmZmVmWVBP1uQBfSOP1fAf2BfwUuIT2ewczMNhCV9Om/DCyIiGsBJH0vIl4s3nevYd3MqqvlMdEvz2k/3dAxta6JWcN0FPRXAAcB70i6rZi3iaR/It2wdUEtK2dmZtXV0c1Zfybdffs+kvYDhpBu3DIzsw3AOv9GbkT8ppoVMTOz2qv0l7PMzGwj4KBvZpYRB30zs4w46JuZZWSdL+Ra5zexvUcwL15Qv4qY2XtKH5PekRrcM+KWvplZRhz0zcwy4qBvZpYRB30zs4w46JuZZcRB38wsIw76ZmYZ8Tj9XLU8W97MsuKWvplZRhz0zcwy4qBvZpaRmgR9SUdKuknSyyXzBki6V9JvJU2RNLAWZZuZWdtq1dJ/Hfgm0LVk3jXA5RGxL+m3dS+rUdlmZtaGmgT9iJgaEW+0TEvqDgyJiDuK5XcDu0jq2lYeZmZWffUasrklqfVf6k9Ab+C18sSSRgGjAAYMGFDzypmtk0ofkVuDx+Oarat6Xch9gxTgSzUX898nIq6OiGERMay5ubnmlTMzy0Vdgn5ErACelHQwgKSDgKcjYmU9yjczs6Sed+SeBEyUdA6wHDi+jmWbmRk1DvoR0a/k/UvAAbUsz8zM2uebs8zMMuKgb2aWEQd9M7OM+NHKncjExQvaXthtSP0qYmYbLbf0zcwy4qBvZpYRB30zs4w46JuZZcRB38wsIw76ZmYZcdA3M8uIx+mbtaHd+yZg9b0TI5fPqUNtyvhZ/raO3NI3M8uIg76ZWUYc9M3MMuKgb2aWEQd9M7OMOOibmWXEQzZb0eFQvcLILft1nMg2ehM7euz1H24EKhza6SGWVmNu6ZuZZcRB38wsIw76ZmYZcdA3M8uIg76ZWUYc9M3MMuKgb2aWEY/Tr4NKx/1bfXQ4rr6R/69KH5lMBdsBsHiB7yfphCr63wEja1C2W/pmZhlx0Dczy4iDvplZRhz0zcwyUvcLuZImAkOAZcWsH0XE7fWuh5lZjhoxemcAMDwilnWY0szMqqoR3TtbAldKmibpMkndG1AHM7MsNaKlPxP4XkS8Ium7wDnA2aUJJI0CRgEMGDCg/jVsy8Ipa0xOXNiYatiGqdKx2Q0xe0xl9es73OP+N3B1b+lHxKiIeKWYvBnYq5U0V0fEsIgY1tzcXN8KmpltxOoa9CVtLul7kroWsz4D/L6edTAzy1ldu3ciYqmkN4BHJC0BXgW+Xs86mJnlrO59+hFxMXBxvcs1MzPfnGVmlhUHfTOzjPjRymblyobmbtAWToGX5zS6FtaJuKVvZpYRB30zs4w46JuZZcRB38wsIw76ZmYZcdA3M8uIg76ZWUY27nH6s8es23qd+RG4Zo1U6bj/oWNqXZM2TVy8oKJ0uT4i2i19M7OMOOibmWXEQd/MLCMO+mZmGXHQNzPLiIO+mVlGHPTNzDKycY/TNzMmVvm+k4ryW7yg+uPgK73vZsCJ1c2vgfcc1IJb+mZmGXHQNzPLiIO+mVlGHPTNzDLioG9mlhEHfTOzjGQ1ZLPaQ9fMrG0VP+L45Ssry6/Sz+/CKdXN7w83Vpau7/DK0jU4Drmlb2aWEQd9M7OMOOibmWXEQd/MLCN1D/qSjpL0iKTHJF1Y7/LNzHJW16AvaSDwPeBTwDCgv6R/rGcdzMxyVu+W/sHALRGxJCICuAo4os51MDPLVr3H6fcGSgfvvgZsXZ5I0ihgVDH5tqQ/1KFutdQHeKPRlehEvD/ek/2+OH7Nyez3R6nj+cL67I+Brc2sd9BfCAwume5XzFtDRFwNXF2vStWapJkRMazR9egsvD/e432xJu+PNdVif9S7e+du4HOStiimTwBuq3MdzMyyVdeWfkS8Jmk8ME3SCmB6RNxSzzqYmeWs7s/eiYhJwKR6l9tgG01XVZV4f7zH+2JN3h9rqvr+UBpEY2ZmOfAduWZmGXHQNzPLiIN+lUk6UtJNkl4umTdA0r2SfitpSnFnchaKx248LGl6sV+6S9pV0lRJMyTdIWmrRtezHiSdWRwDj0v6iaSuOR8bLSSdI2lK8T7LYwNA0sRiu6cUr8NrcnxEhF9VfAF/R7rBZEHJvP8BPlu8PwS4o9H1rNO+6AXMBDYvpn8IfAt4FtitmPdN4NJG17UO+6IP8H3eu452I/BPuR4bJftlGPATYAqgHI+Nkn3xa6CpbF7Vjw9fyK0RSQsiop+k7sAfImL7kmUvADtHxIrG1bA+JDVFxLLi/UXAHGBEROxbzOsKzImIHRpYzbqS1BO4CTgDuDfjY2Nz4H7gH0n74+vAT3M9NiT9HpgN7FD8PZMaxA5379TelsDrZfP+RHokxUYvIpZJapJ0MbA58BQlj+IoDt5sfrZT0iTgBeBBYDEZHxukM7+LI+JPxfQaj2nJ7dggnRWfExH7k46Ly6nB8eGgX3tv8P5/UjOZPF9EUn/gVlKL9kTSh3rrkuXdgI2+VdsiIr5EeibK3sChZHpsSPp7YKuI+EXJ7IXkfWyMiohXismbgUHU4Phw0K+xorXypKSDASQdBDwdESsbW7Pak9QETARGRcQ9ABHxPNBT0i5FsuOAexpTw/qRtJukEQAR8S7wR6A7mR4bwGFAs6TJkiYDuwDfJcNjA1JXl6TvFV1aAJ8htfyrfny4T79GWvr0i/cDScGvK7AcOD4iXmpg9epC0mGkx2c/VzL718DtwH8Cq4BFpD7+t+pfw/op+q9/DOwJLAXmA18lXeCdSGbHRjlJUyJiuKTdyOzYaCHpW6SHji4BXiVd4+hFlY8PB30zs4y4e8fMLCMO+mZmGXHQNzPLiIO+mVlGHPQtW5I2bXQdzOrNQd9y9l+SviDpMEl/KHnQ1TOSjgSQ9AFJfYrXP0i6oGS6T2lmkgZL6ifpLknXS+opaYKkpyTNkvRDSZsVabcp7mMwqysHfcvZ10g3SLXnBuBY4Duku2j/F/gRMAI4tuVsQdKHi3kAXUhjqq8BnoqIXYDdSWPPxxRpNgXGV2tDzCqV03MtzFaT1Au4ADgFOJB0E9kNxeJ/KEt+BNAPWEm6YWgIMBj4K/BT0s00/wacXNxI9GlJOwCTI+JogIgISWOLdETEfEkrJQ2NiNm121KzNTnoW5Yi4k1J15Ja8b8iBfJjS5I8+F7SGC5pJKkF/yBwPulO0bdh9VMze5TdObob8EhZme8AZ5fMuhU4ivRERbO6cNC3bEXENEmzgdOB/coW70B6nnuLGcBBwMGkwL+8ZNmOwPNl668kPR++Pc8Ao9ey2mbrxX36li1J2wGXAR8ideHMJP2Yx0jSM0+KZPoG6QqRrj8AAAEZSURBVJlBI4AjSc9HebAkq26s+SUAMIt0DaC0vJ7FLyNtXsxaTnrctFndOOhbzr5J6mJplSSRum3+k3QmMJd0DeA50sPSWrwKbFu6bvGI3Ick/UjSVsUjpq8BHoqIpUWy7UgPXjOrGwd9y1LRyj8cuK2dZPsBjxfv3yT9lN+NpNb5ByX1g9UBvm/xJVHqJNIz4m8HrgceIv1aVovhpOsJZnXjp2xaliTtQ/qRimDNVnup64DfkAL1UuAXEfGQpG2AzwMfB74ZEW9LOgH4U0TcWWH5m5C+QL4YEX9Zr40xWwsO+mZVIukrEXFNhWn3IH3+HqtxtczW4KBvZpYR9+mbmWXEQd/MLCMO+mZmGXHQNzPLiIO+mVlG/j+Z/xdcEKJJRAAAAABJRU5ErkJggg==)"
      ],
      "metadata": {
        "id": "L_EarJAB7t1o"
      }
    },
    {
      "cell_type": "code",
      "source": [
        "hist_data = pd.read_csv(\"/content/drive/MyDrive/Colab Notebooks/hist_data.csv\")\n",
        "hist_data"
      ],
      "metadata": {
        "id": "GCCj__JQ8W7g",
        "colab": {
          "base_uri": "https://localhost:8080/",
          "height": 424
        },
        "outputId": "6c5868d6-e8eb-45b3-f2df-964000f6ab8e"
      },
      "execution_count": 17,
      "outputs": [
        {
          "output_type": "execute_result",
          "data": {
            "text/plain": [
              "     aデータ  bデータ\n",
              "0    41.7  22.6\n",
              "1    18.4  50.0\n",
              "2    13.1  23.0\n",
              "3    25.0   8.3\n",
              "4    21.2  21.2\n",
              "..    ...   ...\n",
              "248  18.5  32.2\n",
              "249  36.4  13.5\n",
              "250  19.2  17.9\n",
              "251  16.6  13.3\n",
              "252  23.1  11.7\n",
              "\n",
              "[253 rows x 2 columns]"
            ],
            "text/html": [
              "\n",
              "  <div id=\"df-eb9cab2d-5200-44e0-b672-f3a0b21bd0e2\">\n",
              "    <div class=\"colab-df-container\">\n",
              "      <div>\n",
              "<style scoped>\n",
              "    .dataframe tbody tr th:only-of-type {\n",
              "        vertical-align: middle;\n",
              "    }\n",
              "\n",
              "    .dataframe tbody tr th {\n",
              "        vertical-align: top;\n",
              "    }\n",
              "\n",
              "    .dataframe thead th {\n",
              "        text-align: right;\n",
              "    }\n",
              "</style>\n",
              "<table border=\"1\" class=\"dataframe\">\n",
              "  <thead>\n",
              "    <tr style=\"text-align: right;\">\n",
              "      <th></th>\n",
              "      <th>aデータ</th>\n",
              "      <th>bデータ</th>\n",
              "    </tr>\n",
              "  </thead>\n",
              "  <tbody>\n",
              "    <tr>\n",
              "      <th>0</th>\n",
              "      <td>41.7</td>\n",
              "      <td>22.6</td>\n",
              "    </tr>\n",
              "    <tr>\n",
              "      <th>1</th>\n",
              "      <td>18.4</td>\n",
              "      <td>50.0</td>\n",
              "    </tr>\n",
              "    <tr>\n",
              "      <th>2</th>\n",
              "      <td>13.1</td>\n",
              "      <td>23.0</td>\n",
              "    </tr>\n",
              "    <tr>\n",
              "      <th>3</th>\n",
              "      <td>25.0</td>\n",
              "      <td>8.3</td>\n",
              "    </tr>\n",
              "    <tr>\n",
              "      <th>4</th>\n",
              "      <td>21.2</td>\n",
              "      <td>21.2</td>\n",
              "    </tr>\n",
              "    <tr>\n",
              "      <th>...</th>\n",
              "      <td>...</td>\n",
              "      <td>...</td>\n",
              "    </tr>\n",
              "    <tr>\n",
              "      <th>248</th>\n",
              "      <td>18.5</td>\n",
              "      <td>32.2</td>\n",
              "    </tr>\n",
              "    <tr>\n",
              "      <th>249</th>\n",
              "      <td>36.4</td>\n",
              "      <td>13.5</td>\n",
              "    </tr>\n",
              "    <tr>\n",
              "      <th>250</th>\n",
              "      <td>19.2</td>\n",
              "      <td>17.9</td>\n",
              "    </tr>\n",
              "    <tr>\n",
              "      <th>251</th>\n",
              "      <td>16.6</td>\n",
              "      <td>13.3</td>\n",
              "    </tr>\n",
              "    <tr>\n",
              "      <th>252</th>\n",
              "      <td>23.1</td>\n",
              "      <td>11.7</td>\n",
              "    </tr>\n",
              "  </tbody>\n",
              "</table>\n",
              "<p>253 rows × 2 columns</p>\n",
              "</div>\n",
              "      <button class=\"colab-df-convert\" onclick=\"convertToInteractive('df-eb9cab2d-5200-44e0-b672-f3a0b21bd0e2')\"\n",
              "              title=\"Convert this dataframe to an interactive table.\"\n",
              "              style=\"display:none;\">\n",
              "        \n",
              "  <svg xmlns=\"http://www.w3.org/2000/svg\" height=\"24px\"viewBox=\"0 0 24 24\"\n",
              "       width=\"24px\">\n",
              "    <path d=\"M0 0h24v24H0V0z\" fill=\"none\"/>\n",
              "    <path d=\"M18.56 5.44l.94 2.06.94-2.06 2.06-.94-2.06-.94-.94-2.06-.94 2.06-2.06.94zm-11 1L8.5 8.5l.94-2.06 2.06-.94-2.06-.94L8.5 2.5l-.94 2.06-2.06.94zm10 10l.94 2.06.94-2.06 2.06-.94-2.06-.94-.94-2.06-.94 2.06-2.06.94z\"/><path d=\"M17.41 7.96l-1.37-1.37c-.4-.4-.92-.59-1.43-.59-.52 0-1.04.2-1.43.59L10.3 9.45l-7.72 7.72c-.78.78-.78 2.05 0 2.83L4 21.41c.39.39.9.59 1.41.59.51 0 1.02-.2 1.41-.59l7.78-7.78 2.81-2.81c.8-.78.8-2.07 0-2.86zM5.41 20L4 18.59l7.72-7.72 1.47 1.35L5.41 20z\"/>\n",
              "  </svg>\n",
              "      </button>\n",
              "      \n",
              "  <style>\n",
              "    .colab-df-container {\n",
              "      display:flex;\n",
              "      flex-wrap:wrap;\n",
              "      gap: 12px;\n",
              "    }\n",
              "\n",
              "    .colab-df-convert {\n",
              "      background-color: #E8F0FE;\n",
              "      border: none;\n",
              "      border-radius: 50%;\n",
              "      cursor: pointer;\n",
              "      display: none;\n",
              "      fill: #1967D2;\n",
              "      height: 32px;\n",
              "      padding: 0 0 0 0;\n",
              "      width: 32px;\n",
              "    }\n",
              "\n",
              "    .colab-df-convert:hover {\n",
              "      background-color: #E2EBFA;\n",
              "      box-shadow: 0px 1px 2px rgba(60, 64, 67, 0.3), 0px 1px 3px 1px rgba(60, 64, 67, 0.15);\n",
              "      fill: #174EA6;\n",
              "    }\n",
              "\n",
              "    [theme=dark] .colab-df-convert {\n",
              "      background-color: #3B4455;\n",
              "      fill: #D2E3FC;\n",
              "    }\n",
              "\n",
              "    [theme=dark] .colab-df-convert:hover {\n",
              "      background-color: #434B5C;\n",
              "      box-shadow: 0px 1px 3px 1px rgba(0, 0, 0, 0.15);\n",
              "      filter: drop-shadow(0px 1px 2px rgba(0, 0, 0, 0.3));\n",
              "      fill: #FFFFFF;\n",
              "    }\n",
              "  </style>\n",
              "\n",
              "      <script>\n",
              "        const buttonEl =\n",
              "          document.querySelector('#df-eb9cab2d-5200-44e0-b672-f3a0b21bd0e2 button.colab-df-convert');\n",
              "        buttonEl.style.display =\n",
              "          google.colab.kernel.accessAllowed ? 'block' : 'none';\n",
              "\n",
              "        async function convertToInteractive(key) {\n",
              "          const element = document.querySelector('#df-eb9cab2d-5200-44e0-b672-f3a0b21bd0e2');\n",
              "          const dataTable =\n",
              "            await google.colab.kernel.invokeFunction('convertToInteractive',\n",
              "                                                     [key], {});\n",
              "          if (!dataTable) return;\n",
              "\n",
              "          const docLinkHtml = 'Like what you see? Visit the ' +\n",
              "            '<a target=\"_blank\" href=https://colab.research.google.com/notebooks/data_table.ipynb>data table notebook</a>'\n",
              "            + ' to learn more about interactive tables.';\n",
              "          element.innerHTML = '';\n",
              "          dataTable['output_type'] = 'display_data';\n",
              "          await google.colab.output.renderOutput(dataTable, element);\n",
              "          const docLink = document.createElement('div');\n",
              "          docLink.innerHTML = docLinkHtml;\n",
              "          element.appendChild(docLink);\n",
              "        }\n",
              "      </script>\n",
              "    </div>\n",
              "  </div>\n",
              "  "
            ]
          },
          "metadata": {},
          "execution_count": 17
        }
      ]
    },
    {
      "cell_type": "code",
      "source": [
        "plt.hist(hist_data[\"aデータ\"],bins=30, alpha = 0.5, label=\"aデータ\", color=\"#FFA500\")\n",
        "plt.hist(hist_data[\"bデータ\"],bins=30, alpha = 0.5, label=\"bデータ\", color=\"#40E0D0\")\n",
        "plt.legend(loc='upper right')\n",
        "plt.xlabel(\"温度（℃）\")\n",
        "plt.ylabel(\"度数\")\n",
        "plt.title(\"aデータとbデータの温度に関する度数分布\")"
      ],
      "metadata": {
        "colab": {
          "base_uri": "https://localhost:8080/",
          "height": 311
        },
        "id": "x2GC-sO07YVC",
        "outputId": "329ee95f-278a-40bb-98d0-28517d0d5b3f"
      },
      "execution_count": 18,
      "outputs": [
        {
          "output_type": "execute_result",
          "data": {
            "text/plain": [
              "Text(0.5, 1.0, 'aデータとbデータの温度に関する度数分布')"
            ]
          },
          "metadata": {},
          "execution_count": 18
        },
        {
          "output_type": "display_data",
          "data": {
            "text/plain": [
              "<Figure size 432x288 with 1 Axes>"
            ],
            "image/png": "[encoded data removed]"
          },
          "metadata": {
            "needs_background": "light"
          }
        }
      ]
    },
    {
      "cell_type": "code",
      "source": [
        "scatter_data = pd.read_csv(\"/content/drive/MyDrive/Colab Notebooks/scatter_data.csv\")\n",
        "scatter_data"
      ],
      "metadata": {
        "colab": {
          "base_uri": "https://localhost:8080/",
          "height": 424
        },
        "id": "BG9rS9xDdl4_",
        "outputId": "44e33f5a-4125-47b8-e6a6-9998570e09ae"
      },
      "execution_count": 19,
      "outputs": [
        {
          "output_type": "execute_result",
          "data": {
            "text/plain": [
              "     iength (cm)  width (cm)  ciass\n",
              "0            5.1         3.5      0\n",
              "1            4.9         3.0      0\n",
              "2            4.7         3.2      0\n",
              "3            4.6         3.1      0\n",
              "4            5.0         3.6      0\n",
              "..           ...         ...    ...\n",
              "145          6.7         3.0      2\n",
              "146          6.3         2.5      2\n",
              "147          6.5         3.0      2\n",
              "148          6.2         3.4      2\n",
              "149          5.9         3.0      2\n",
              "\n",
              "[150 rows x 3 columns]"
            ],
            "text/html": [
              "\n",
              "  <div id=\"df-19326aea-c2ff-4aba-bf95-24d78719fb7b\">\n",
              "    <div class=\"colab-df-container\">\n",
              "      <div>\n",
              "<style scoped>\n",
              "    .dataframe tbody tr th:only-of-type {\n",
              "        vertical-align: middle;\n",
              "    }\n",
              "\n",
              "    .dataframe tbody tr th {\n",
              "        vertical-align: top;\n",
              "    }\n",
              "\n",
              "    .dataframe thead th {\n",
              "        text-align: right;\n",
              "    }\n",
              "</style>\n",
              "<table border=\"1\" class=\"dataframe\">\n",
              "  <thead>\n",
              "    <tr style=\"text-align: right;\">\n",
              "      <th></th>\n",
              "      <th>iength (cm)</th>\n",
              "      <th>width (cm)</th>\n",
              "      <th>ciass</th>\n",
              "    </tr>\n",
              "  </thead>\n",
              "  <tbody>\n",
              "    <tr>\n",
              "      <th>0</th>\n",
              "      <td>5.1</td>\n",
              "      <td>3.5</td>\n",
              "      <td>0</td>\n",
              "    </tr>\n",
              "    <tr>\n",
              "      <th>1</th>\n",
              "      <td>4.9</td>\n",
              "      <td>3.0</td>\n",
              "      <td>0</td>\n",
              "    </tr>\n",
              "    <tr>\n",
              "      <th>2</th>\n",
              "      <td>4.7</td>\n",
              "      <td>3.2</td>\n",
              "      <td>0</td>\n",
              "    </tr>\n",
              "    <tr>\n",
              "      <th>3</th>\n",
              "      <td>4.6</td>\n",
              "      <td>3.1</td>\n",
              "      <td>0</td>\n",
              "    </tr>\n",
              "    <tr>\n",
              "      <th>4</th>\n",
              "      <td>5.0</td>\n",
              "      <td>3.6</td>\n",
              "      <td>0</td>\n",
              "    </tr>\n",
              "    <tr>\n",
              "      <th>...</th>\n",
              "      <td>...</td>\n",
              "      <td>...</td>\n",
              "      <td>...</td>\n",
              "    </tr>\n",
              "    <tr>\n",
              "      <th>145</th>\n",
              "      <td>6.7</td>\n",
              "      <td>3.0</td>\n",
              "      <td>2</td>\n",
              "    </tr>\n",
              "    <tr>\n",
              "      <th>146</th>\n",
              "      <td>6.3</td>\n",
              "      <td>2.5</td>\n",
              "      <td>2</td>\n",
              "    </tr>\n",
              "    <tr>\n",
              "      <th>147</th>\n",
              "      <td>6.5</td>\n",
              "      <td>3.0</td>\n",
              "      <td>2</td>\n",
              "    </tr>\n",
              "    <tr>\n",
              "      <th>148</th>\n",
              "      <td>6.2</td>\n",
              "      <td>3.4</td>\n",
              "      <td>2</td>\n",
              "    </tr>\n",
              "    <tr>\n",
              "      <th>149</th>\n",
              "      <td>5.9</td>\n",
              "      <td>3.0</td>\n",
              "      <td>2</td>\n",
              "    </tr>\n",
              "  </tbody>\n",
              "</table>\n",
              "<p>150 rows × 3 columns</p>\n",
              "</div>\n",
              "      <button class=\"colab-df-convert\" onclick=\"convertToInteractive('df-19326aea-c2ff-4aba-bf95-24d78719fb7b')\"\n",
              "              title=\"Convert this dataframe to an interactive table.\"\n",
              "              style=\"display:none;\">\n",
              "        \n",
              "  <svg xmlns=\"http://www.w3.org/2000/svg\" height=\"24px\"viewBox=\"0 0 24 24\"\n",
              "       width=\"24px\">\n",
              "    <path d=\"M0 0h24v24H0V0z\" fill=\"none\"/>\n",
              "    <path d=\"M18.56 5.44l.94 2.06.94-2.06 2.06-.94-2.06-.94-.94-2.06-.94 2.06-2.06.94zm-11 1L8.5 8.5l.94-2.06 2.06-.94-2.06-.94L8.5 2.5l-.94 2.06-2.06.94zm10 10l.94 2.06.94-2.06 2.06-.94-2.06-.94-.94-2.06-.94 2.06-2.06.94z\"/><path d=\"M17.41 7.96l-1.37-1.37c-.4-.4-.92-.59-1.43-.59-.52 0-1.04.2-1.43.59L10.3 9.45l-7.72 7.72c-.78.78-.78 2.05 0 2.83L4 21.41c.39.39.9.59 1.41.59.51 0 1.02-.2 1.41-.59l7.78-7.78 2.81-2.81c.8-.78.8-2.07 0-2.86zM5.41 20L4 18.59l7.72-7.72 1.47 1.35L5.41 20z\"/>\n",
              "  </svg>\n",
              "      </button>\n",
              "      \n",
              "  <style>\n",
              "    .colab-df-container {\n",
              "      display:flex;\n",
              "      flex-wrap:wrap;\n",
              "      gap: 12px;\n",
              "    }\n",
              "\n",
              "    .colab-df-convert {\n",
              "      background-color: #E8F0FE;\n",
              "      border: none;\n",
              "      border-radius: 50%;\n",
              "      cursor: pointer;\n",
              "      display: none;\n",
              "      fill: #1967D2;\n",
              "      height: 32px;\n",
              "      padding: 0 0 0 0;\n",
              "      width: 32px;\n",
              "    }\n",
              "\n",
              "    .colab-df-convert:hover {\n",
              "      background-color: #E2EBFA;\n",
              "      box-shadow: 0px 1px 2px rgba(60, 64, 67, 0.3), 0px 1px 3px 1px rgba(60, 64, 67, 0.15);\n",
              "      fill: #174EA6;\n",
              "    }\n",
              "\n",
              "    [theme=dark] .colab-df-convert {\n",
              "      background-color: #3B4455;\n",
              "      fill: #D2E3FC;\n",
              "    }\n",
              "\n",
              "    [theme=dark] .colab-df-convert:hover {\n",
              "      background-color: #434B5C;\n",
              "      box-shadow: 0px 1px 3px 1px rgba(0, 0, 0, 0.15);\n",
              "      filter: drop-shadow(0px 1px 2px rgba(0, 0, 0, 0.3));\n",
              "      fill: #FFFFFF;\n",
              "    }\n",
              "  </style>\n",
              "\n",
              "      <script>\n",
              "        const buttonEl =\n",
              "          document.querySelector('#df-19326aea-c2ff-4aba-bf95-24d78719fb7b button.colab-df-convert');\n",
              "        buttonEl.style.display =\n",
              "          google.colab.kernel.accessAllowed ? 'block' : 'none';\n",
              "\n",
              "        async function convertToInteractive(key) {\n",
              "          const element = document.querySelector('#df-19326aea-c2ff-4aba-bf95-24d78719fb7b');\n",
              "          const dataTable =\n",
              "            await google.colab.kernel.invokeFunction('convertToInteractive',\n",
              "                                                     [key], {});\n",
              "          if (!dataTable) return;\n",
              "\n",
              "          const docLinkHtml = 'Like what you see? Visit the ' +\n",
              "            '<a target=\"_blank\" href=https://colab.research.google.com/notebooks/data_table.ipynb>data table notebook</a>'\n",
              "            + ' to learn more about interactive tables.';\n",
              "          element.innerHTML = '';\n",
              "          dataTable['output_type'] = 'display_data';\n",
              "          await google.colab.output.renderOutput(dataTable, element);\n",
              "          const docLink = document.createElement('div');\n",
              "          docLink.innerHTML = docLinkHtml;\n",
              "          element.appendChild(docLink);\n",
              "        }\n",
              "      </script>\n",
              "    </div>\n",
              "  </div>\n",
              "  "
            ]
          },
          "metadata": {},
          "execution_count": 19
        }
      ]
    },
    {
      "cell_type": "markdown",
      "source": [
        "## 2問目\n",
        "使うcsvはscatter_data.csvです。下にコードを書いてください。"
      ],
      "metadata": {
        "id": "pT8UYFen8K7U"
      }
    },
    {
      "cell_type": "markdown",
      "source": [
        "![問2.png](data:image/png;base64,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)"
      ],
      "metadata": {
        "id": "YzmZ7mj08TqY"
      }
    },
    {
      "cell_type": "code",
      "source": [
        "scatter_data = scatter_data.set_index(\"ciass\")"
      ],
      "metadata": {
        "id": "EYIuwyqP8XTD"
      },
      "execution_count": 20,
      "outputs": []
    },
    {
      "cell_type": "code",
      "source": [
        "ciass0_iength = scatter_data.loc[\"0\", \"iength (cm)\"]\n",
        "ciass1_iength = scatter_data.loc[\"1\", \"iength (cm)\"]\n",
        "ciass2_iength = scatter_data.loc[\"2\", \"iength (cm)\"]\n",
        "ciass0_width = scatter_data.loc[\"0\", \"width (cm)\"]\n",
        "ciass1_width = scatter_data.loc[\"1\", \"width (cm)\"]\n",
        "ciass2_width = scatter_data.loc[\"2\", \"width (cm)\"]"
      ],
      "metadata": {
        "id": "yHawJmgIfYY-"
      },
      "execution_count": 21,
      "outputs": []
    },
    {
      "cell_type": "code",
      "source": [
        "plt.scatter(ciass0_iength, ciass0_width, color=\"r\",label=\"dass0\")\n",
        "plt.scatter(ciass1_iength, ciass1_width, color=\"b\", label=\"dass1\")\n",
        "plt.scatter(ciass2_iength, ciass2_width, color=\"g\", label=\"dass2\")\n",
        "plt.title(\"クラス0～2のlengthとwidthに関する散布図\")\n",
        "plt.xlabel(\"length(cm)\")\n",
        "plt.ylabel(\"width(cm)\")\n",
        "plt.grid(True)\n",
        "plt.legend()\n",
        "plt.show"
      ],
      "metadata": {
        "colab": {
          "base_uri": "https://localhost:8080/",
          "height": 312
        },
        "id": "xcLqaPRPgMPi",
        "outputId": "98169fea-8898-45ab-9d24-1bb43e50738a"
      },
      "execution_count": 22,
      "outputs": [
        {
          "output_type": "execute_result",
          "data": {
            "text/plain": [
              "<function matplotlib.pyplot.show(*args, **kw)>"
            ]
          },
          "metadata": {},
          "execution_count": 22
        },
        {
          "output_type": "display_data",
          "data": {
            "text/plain": [
              "<Figure size 432x288 with 1 Axes>"
            ],
            "image/png": "[encoded data removed]"
          },
          "metadata": {
            "needs_background": "light"
          }
        }
      ]
    },
    {
      "cell_type": "markdown",
      "source": [
        "## 3問目\n",
        "使うcsvはline_data.csvです。下に2つの画像を表示するコードを書いてください。"
      ],
      "metadata": {
        "id": "WxPGLz5o8YU8"
      }
    },
    {
      "cell_type": "markdown",
      "source": [
        "![問3(1).png](data:image/png;base64,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)"
      ],
      "metadata": {
        "id": "qx7c1zxf8bGD"
      }
    },
    {
      "cell_type": "markdown",
      "source": [
        "![問3(2).png](data:image/png;base64,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)"
      ],
      "metadata": {
        "id": "JF0_aIxn8oef"
      }
    },
    {
      "cell_type": "code",
      "source": [
        "line_data = pd.read_csv(\"/content/drive/MyDrive/Colab Notebooks/line_data.csv\")\n",
        "line_data"
      ],
      "metadata": {
        "id": "zD89wlL08sDW",
        "colab": {
          "base_uri": "https://localhost:8080/",
          "height": 300
        },
        "outputId": "bf899147-9573-47be-978a-a601d521c49c"
      },
      "execution_count": 23,
      "outputs": [
        {
          "output_type": "execute_result",
          "data": {
            "text/plain": [
              "        期間   件数      費用\n",
              "0  2016下半期  105  402240\n",
              "1  2017上半期  143  534960\n",
              "2  2017下半期  126  435120\n",
              "3  2018上半期  134  499120\n",
              "4  2018下半期  128  358880\n",
              "5   201上半期  126  351440\n",
              "6  2019下半期  122  293280\n",
              "7  2020上半期  124  322320"
            ],
            "text/html": [
              "\n",
              "  <div id=\"df-a713f3d4-57bf-4c2a-af08-4a6d74eebc94\">\n",
              "    <div class=\"colab-df-container\">\n",
              "      <div>\n",
              "<style scoped>\n",
              "    .dataframe tbody tr th:only-of-type {\n",
              "        vertical-align: middle;\n",
              "    }\n",
              "\n",
              "    .dataframe tbody tr th {\n",
              "        vertical-align: top;\n",
              "    }\n",
              "\n",
              "    .dataframe thead th {\n",
              "        text-align: right;\n",
              "    }\n",
              "</style>\n",
              "<table border=\"1\" class=\"dataframe\">\n",
              "  <thead>\n",
              "    <tr style=\"text-align: right;\">\n",
              "      <th></th>\n",
              "      <th>期間</th>\n",
              "      <th>件数</th>\n",
              "      <th>費用</th>\n",
              "    </tr>\n",
              "  </thead>\n",
              "  <tbody>\n",
              "    <tr>\n",
              "      <th>0</th>\n",
              "      <td>2016下半期</td>\n",
              "      <td>105</td>\n",
              "      <td>402240</td>\n",
              "    </tr>\n",
              "    <tr>\n",
              "      <th>1</th>\n",
              "      <td>2017上半期</td>\n",
              "      <td>143</td>\n",
              "      <td>534960</td>\n",
              "    </tr>\n",
              "    <tr>\n",
              "      <th>2</th>\n",
              "      <td>2017下半期</td>\n",
              "      <td>126</td>\n",
              "      <td>435120</td>\n",
              "    </tr>\n",
              "    <tr>\n",
              "      <th>3</th>\n",
              "      <td>2018上半期</td>\n",
              "      <td>134</td>\n",
              "      <td>499120</td>\n",
              "    </tr>\n",
              "    <tr>\n",
              "      <th>4</th>\n",
              "      <td>2018下半期</td>\n",
              "      <td>128</td>\n",
              "      <td>358880</td>\n",
              "    </tr>\n",
              "    <tr>\n",
              "      <th>5</th>\n",
              "      <td>201上半期</td>\n",
              "      <td>126</td>\n",
              "      <td>351440</td>\n",
              "    </tr>\n",
              "    <tr>\n",
              "      <th>6</th>\n",
              "      <td>2019下半期</td>\n",
              "      <td>122</td>\n",
              "      <td>293280</td>\n",
              "    </tr>\n",
              "    <tr>\n",
              "      <th>7</th>\n",
              "      <td>2020上半期</td>\n",
              "      <td>124</td>\n",
              "      <td>322320</td>\n",
              "    </tr>\n",
              "  </tbody>\n",
              "</table>\n",
              "</div>\n",
              "      <button class=\"colab-df-convert\" onclick=\"convertToInteractive('df-a713f3d4-57bf-4c2a-af08-4a6d74eebc94')\"\n",
              "              title=\"Convert this dataframe to an interactive table.\"\n",
              "              style=\"display:none;\">\n",
              "        \n",
              "  <svg xmlns=\"http://www.w3.org/2000/svg\" height=\"24px\"viewBox=\"0 0 24 24\"\n",
              "       width=\"24px\">\n",
              "    <path d=\"M0 0h24v24H0V0z\" fill=\"none\"/>\n",
              "    <path d=\"M18.56 5.44l.94 2.06.94-2.06 2.06-.94-2.06-.94-.94-2.06-.94 2.06-2.06.94zm-11 1L8.5 8.5l.94-2.06 2.06-.94-2.06-.94L8.5 2.5l-.94 2.06-2.06.94zm10 10l.94 2.06.94-2.06 2.06-.94-2.06-.94-.94-2.06-.94 2.06-2.06.94z\"/><path d=\"M17.41 7.96l-1.37-1.37c-.4-.4-.92-.59-1.43-.59-.52 0-1.04.2-1.43.59L10.3 9.45l-7.72 7.72c-.78.78-.78 2.05 0 2.83L4 21.41c.39.39.9.59 1.41.59.51 0 1.02-.2 1.41-.59l7.78-7.78 2.81-2.81c.8-.78.8-2.07 0-2.86zM5.41 20L4 18.59l7.72-7.72 1.47 1.35L5.41 20z\"/>\n",
              "  </svg>\n",
              "      </button>\n",
              "      \n",
              "  <style>\n",
              "    .colab-df-container {\n",
              "      display:flex;\n",
              "      flex-wrap:wrap;\n",
              "      gap: 12px;\n",
              "    }\n",
              "\n",
              "    .colab-df-convert {\n",
              "      background-color: #E8F0FE;\n",
              "      border: none;\n",
              "      border-radius: 50%;\n",
              "      cursor: pointer;\n",
              "      display: none;\n",
              "      fill: #1967D2;\n",
              "      height: 32px;\n",
              "      padding: 0 0 0 0;\n",
              "      width: 32px;\n",
              "    }\n",
              "\n",
              "    .colab-df-convert:hover {\n",
              "      background-color: #E2EBFA;\n",
              "      box-shadow: 0px 1px 2px rgba(60, 64, 67, 0.3), 0px 1px 3px 1px rgba(60, 64, 67, 0.15);\n",
              "      fill: #174EA6;\n",
              "    }\n",
              "\n",
              "    [theme=dark] .colab-df-convert {\n",
              "      background-color: #3B4455;\n",
              "      fill: #D2E3FC;\n",
              "    }\n",
              "\n",
              "    [theme=dark] .colab-df-convert:hover {\n",
              "      background-color: #434B5C;\n",
              "      box-shadow: 0px 1px 3px 1px rgba(0, 0, 0, 0.15);\n",
              "      filter: drop-shadow(0px 1px 2px rgba(0, 0, 0, 0.3));\n",
              "      fill: #FFFFFF;\n",
              "    }\n",
              "  </style>\n",
              "\n",
              "      <script>\n",
              "        const buttonEl =\n",
              "          document.querySelector('#df-a713f3d4-57bf-4c2a-af08-4a6d74eebc94 button.colab-df-convert');\n",
              "        buttonEl.style.display =\n",
              "          google.colab.kernel.accessAllowed ? 'block' : 'none';\n",
              "\n",
              "        async function convertToInteractive(key) {\n",
              "          const element = document.querySelector('#df-a713f3d4-57bf-4c2a-af08-4a6d74eebc94');\n",
              "          const dataTable =\n",
              "            await google.colab.kernel.invokeFunction('convertToInteractive',\n",
              "                                                     [key], {});\n",
              "          if (!dataTable) return;\n",
              "\n",
              "          const docLinkHtml = 'Like what you see? Visit the ' +\n",
              "            '<a target=\"_blank\" href=https://colab.research.google.com/notebooks/data_table.ipynb>data table notebook</a>'\n",
              "            + ' to learn more about interactive tables.';\n",
              "          element.innerHTML = '';\n",
              "          dataTable['output_type'] = 'display_data';\n",
              "          await google.colab.output.renderOutput(dataTable, element);\n",
              "          const docLink = document.createElement('div');\n",
              "          docLink.innerHTML = docLinkHtml;\n",
              "          element.appendChild(docLink);\n",
              "        }\n",
              "      </script>\n",
              "    </div>\n",
              "  </div>\n",
              "  "
            ]
          },
          "metadata": {},
          "execution_count": 23
        }
      ]
    },
    {
      "cell_type": "code",
      "source": [
        "cost_data = line_data[\"費用\"]\n",
        "term_data = line_data[\"期間\"]\n",
        "num_data = line_data[\"件数\"]"
      ],
      "metadata": {
        "id": "K0UTrr0p3fM6"
      },
      "execution_count": 24,
      "outputs": []
    },
    {
      "cell_type": "code",
      "source": [
        "plt.plot(term_data,num_data, marker=\"o\")\n",
        "plt.xticks(rotation = 30)\n",
        "plt.grid(True)\n",
        "plt.xlabel(\"期間\")\n",
        "plt.ylabel(\"件数\")\n",
        "plt.title(\"期間ごとの件数の推移\")"
      ],
      "metadata": {
        "colab": {
          "base_uri": "https://localhost:8080/",
          "height": 337
        },
        "id": "xCymfe995svm",
        "outputId": "e51a14d7-8666-4a50-9930-40a509191497"
      },
      "execution_count": 25,
      "outputs": [
        {
          "output_type": "execute_result",
          "data": {
            "text/plain": [
              "Text(0.5, 1.0, '期間ごとの件数の推移')"
            ]
          },
          "metadata": {},
          "execution_count": 25
        },
        {
          "output_type": "display_data",
          "data": {
            "text/plain": [
              "<Figure size 432x288 with 1 Axes>"
            ],
            "image/png": "[encoded data removed]"
          },
          "metadata": {
            "needs_background": "light"
          }
        }
      ]
    },
    {
      "cell_type": "code",
      "source": [
        "plt.bar(term_data, cost_data)\n",
        "plt.grid(True)\n",
        "plt.xlabel(\"期間\")\n",
        "plt.ylabel(\"費用（円）\")\n",
        "plt.xticks(rotation=30)\n",
        "plt.title(\"期間ごとの費用の推移\")"
      ],
      "metadata": {
        "colab": {
          "base_uri": "https://localhost:8080/",
          "height": 338
        },
        "id": "XwQOIwcy4KJ9",
        "outputId": "6fd99bca-3969-4132-8f62-2505d777234f"
      },
      "execution_count": 26,
      "outputs": [
        {
          "output_type": "execute_result",
          "data": {
            "text/plain": [
              "Text(0.5, 1.0, '期間ごとの費用の推移')"
            ]
          },
          "metadata": {},
          "execution_count": 26
        },
        {
          "output_type": "display_data",
          "data": {
            "text/plain": [
              "<Figure size 432x288 with 1 Axes>"
            ],
            "image/png": "[encoded data removed]"
          },
          "metadata": {
            "needs_background": "light"
          }
        }
      ]
    },
    {
      "cell_type": "code",
      "source": [],
      "metadata": {
        "id": "2vwNqyyjIT5e"
      },
      "execution_count": 26,
      "outputs": []
    }
  ]
}